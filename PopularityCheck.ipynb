{
 "cells": [
  {
   "cell_type": "code",
   "execution_count": 1,
   "metadata": {},
   "outputs": [],
   "source": [
    "import ml_metrics as metrics\n",
    "import numpy as np"
   ]
  },
  {
   "cell_type": "code",
   "execution_count": 3,
   "metadata": {},
   "outputs": [],
   "source": [
    "with open('dataset/kaggle_visible_evaluation_triplets.txt', 'r') as f:\n",
    "    song_to_count = dict() \n",
    "    for line in f:\n",
    "        _, song, _ = line.strip().split('\\t') \n",
    "        if song in song_to_count: \n",
    "            song_to_count[song] += 1 \n",
    "        else: \n",
    "            song_to_count[song] = 1 \n",
    "            pass\n",
    "        pass\n",
    "    pass"
   ]
  },
  {
   "cell_type": "code",
   "execution_count": 4,
   "metadata": {},
   "outputs": [],
   "source": [
    "songs_ordered = sorted( song_to_count.keys(), \n",
    "                        key=lambda s: song_to_count[s],\n",
    "                        reverse=True)"
   ]
  },
  {
   "cell_type": "code",
   "execution_count": 7,
   "metadata": {},
   "outputs": [],
   "source": [
    "with open('dataset/year1_valid_triplets_visible.txt', 'r') as f:\n",
    "    user_to_songs = dict() \n",
    "    for line in f:\n",
    "        user, song, _ = line.strip().split('\\t') \n",
    "        if user in user_to_songs: \n",
    "            user_to_songs[user].add(song) \n",
    "        else: \n",
    "            user_to_songs[user] = set([song])\n",
    "            pass\n",
    "        pass\n",
    "    pass"
   ]
  },
  {
   "cell_type": "code",
   "execution_count": 11,
   "metadata": {},
   "outputs": [],
   "source": [
    "with open('dataset/kaggle_users.txt', 'r') as f:\n",
    "    canonical_users = map(lambda line: line.strip(), f.readlines()) \n",
    "    pass"
   ]
  },
  {
   "cell_type": "code",
   "execution_count": 13,
   "metadata": {},
   "outputs": [],
   "source": [
    "with open('dataset/kaggle_songs.txt', 'r') as f:\n",
    "    song_to_index = dict(map(lambda line: line.strip().split(' '), f.readlines())) \n",
    "    pass"
   ]
  },
  {
   "cell_type": "code",
   "execution_count": 14,
   "metadata": {},
   "outputs": [],
   "source": [
    "with open('dataset/year1_valid_triplets_hidden.txt','r') as f:\n",
    "    uts=dict()\n",
    "    for line in f:\n",
    "        user,song,_=line.strip().split('\\t')\n",
    "        if user in uts:\n",
    "            uts[user].add(song_to_index[song])\n",
    "        else:\n",
    "            uts[user]=set([song_to_index[song]])\n",
    "            pass\n",
    "        pass\n",
    "    pass"
   ]
  },
  {
   "cell_type": "code",
   "execution_count": 16,
   "metadata": {},
   "outputs": [
    {
     "ename": "KeyError",
     "evalue": "'fd50c4007b68a3737fe052d5a4f78ce8aa117f3d'",
     "output_type": "error",
     "traceback": [
      "\u001b[0;31m---------------------------------------------------------------------------\u001b[0m",
      "\u001b[0;31mKeyError\u001b[0m                                  Traceback (most recent call last)",
      "\u001b[0;32m<ipython-input-16-30188c8296f7>\u001b[0m in \u001b[0;36m<module>\u001b[0;34m\u001b[0m\n\u001b[1;32m      7\u001b[0m             \u001b[0;32mif\u001b[0m \u001b[0mlen\u001b[0m\u001b[0;34m(\u001b[0m\u001b[0msongs_to_recommend\u001b[0m\u001b[0;34m)\u001b[0m \u001b[0;34m>=\u001b[0m \u001b[0;36m500\u001b[0m\u001b[0;34m:\u001b[0m\u001b[0;34m\u001b[0m\u001b[0m\n\u001b[1;32m      8\u001b[0m                 \u001b[0;32mbreak\u001b[0m\u001b[0;34m\u001b[0m\u001b[0m\n\u001b[0;32m----> 9\u001b[0;31m             \u001b[0;32mif\u001b[0m \u001b[0;32mnot\u001b[0m \u001b[0msong\u001b[0m \u001b[0;32min\u001b[0m \u001b[0muser_to_songs\u001b[0m\u001b[0;34m[\u001b[0m\u001b[0muser\u001b[0m\u001b[0;34m]\u001b[0m\u001b[0;34m:\u001b[0m\u001b[0;34m\u001b[0m\u001b[0m\n\u001b[0m\u001b[1;32m     10\u001b[0m                 \u001b[0msongs_to_recommend\u001b[0m\u001b[0;34m.\u001b[0m\u001b[0mappend\u001b[0m\u001b[0;34m(\u001b[0m\u001b[0msong_to_index\u001b[0m\u001b[0;34m[\u001b[0m\u001b[0msong\u001b[0m\u001b[0;34m]\u001b[0m\u001b[0;34m)\u001b[0m\u001b[0;34m\u001b[0m\u001b[0m\n\u001b[1;32m     11\u001b[0m                 \u001b[0;32mpass\u001b[0m\u001b[0;34m\u001b[0m\u001b[0m\n",
      "\u001b[0;31mKeyError\u001b[0m: 'fd50c4007b68a3737fe052d5a4f78ce8aa117f3d'"
     ]
    }
   ],
   "source": [
    "with open('dataset/submission_valid.txt', 'w') as f:\n",
    "    myDic = {}\n",
    "    for user in canonical_users:\n",
    "        songs_to_recommend  = [] \n",
    "\n",
    "        for song in songs_ordered: \n",
    "            if len(songs_to_recommend) >= 500: \n",
    "                break \n",
    "            if not song in user_to_songs[user]: \n",
    "                songs_to_recommend.append(song_to_index[song]) \n",
    "                pass\n",
    "        \n",
    "        myDic[user] = songs_to_recommend\n",
    "        print(user)\n",
    "        print(myDic[1])\n",
    "        pass\n",
    "    pass"
   ]
  },
  {
   "cell_type": "code",
   "execution_count": null,
   "metadata": {},
   "outputs": [],
   "source": []
  }
 ],
 "metadata": {
  "kernelspec": {
   "display_name": "Python 3",
   "language": "python",
   "name": "python3"
  },
  "language_info": {
   "codemirror_mode": {
    "name": "ipython",
    "version": 3
   },
   "file_extension": ".py",
   "mimetype": "text/x-python",
   "name": "python",
   "nbconvert_exporter": "python",
   "pygments_lexer": "ipython3",
   "version": "3.6.6"
  }
 },
 "nbformat": 4,
 "nbformat_minor": 2
}
